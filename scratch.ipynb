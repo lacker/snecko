{
 "cells": [
  {
   "cell_type": "code",
   "execution_count": 1,
   "metadata": {},
   "outputs": [],
   "source": [
    "import fastai\n",
    "import random\n",
    "import torch\n",
    "\n",
    "from fastai.tabular import *"
   ]
  },
  {
   "cell_type": "code",
   "execution_count": 2,
   "metadata": {},
   "outputs": [],
   "source": [
    "%load_ext autoreload\n",
    "%autoreload 1\n",
    "%aimport logs"
   ]
  },
  {
   "cell_type": "code",
   "execution_count": 3,
   "metadata": {},
   "outputs": [
    {
     "data": {
      "text/plain": [
       "'GeForce GTX 1080'"
      ]
     },
     "execution_count": 3,
     "metadata": {},
     "output_type": "execute_result"
    }
   ],
   "source": [
    "# Check if we're using the GPU.\n",
    "torch.cuda.get_device_name(0)"
   ]
  },
  {
   "cell_type": "markdown",
   "metadata": {},
   "source": [
    "This next section is training the model. You don't have to do this if the model is already trained."
   ]
  },
  {
   "cell_type": "code",
   "execution_count": 5,
   "metadata": {},
   "outputs": [
    {
     "data": {
      "text/html": [
       "<div>\n",
       "<style scoped>\n",
       "    .dataframe tbody tr th:only-of-type {\n",
       "        vertical-align: middle;\n",
       "    }\n",
       "\n",
       "    .dataframe tbody tr th {\n",
       "        vertical-align: top;\n",
       "    }\n",
       "\n",
       "    .dataframe thead th {\n",
       "        text-align: right;\n",
       "    }\n",
       "</style>\n",
       "<table border=\"1\" class=\"dataframe\">\n",
       "  <thead>\n",
       "    <tr style=\"text-align: right;\">\n",
       "      <th></th>\n",
       "      <th>Character</th>\n",
       "      <th>Floor</th>\n",
       "      <th>Deck Size</th>\n",
       "      <th>Choice1</th>\n",
       "      <th>Choice2</th>\n",
       "      <th>Choice3</th>\n",
       "      <th>Picked</th>\n",
       "      <th>A Thousand Cuts</th>\n",
       "      <th>A Thousand Cuts+1</th>\n",
       "      <th>AbeCurse</th>\n",
       "      <th>...</th>\n",
       "      <th>Vajra</th>\n",
       "      <th>Velvet Choker</th>\n",
       "      <th>VioletLotus</th>\n",
       "      <th>War Paint</th>\n",
       "      <th>WarpedTongs</th>\n",
       "      <th>Whetstone</th>\n",
       "      <th>White Beast Statue</th>\n",
       "      <th>WingedGreaves</th>\n",
       "      <th>WristBlade</th>\n",
       "      <th>Yang</th>\n",
       "    </tr>\n",
       "  </thead>\n",
       "  <tbody>\n",
       "    <tr>\n",
       "      <th>0</th>\n",
       "      <td>IRONCLAD</td>\n",
       "      <td>1</td>\n",
       "      <td>11</td>\n",
       "      <td>Headbutt</td>\n",
       "      <td>Iron Wave</td>\n",
       "      <td>Entrench</td>\n",
       "      <td>1</td>\n",
       "      <td>0</td>\n",
       "      <td>0</td>\n",
       "      <td>0</td>\n",
       "      <td>...</td>\n",
       "      <td>0</td>\n",
       "      <td>0</td>\n",
       "      <td>0</td>\n",
       "      <td>0</td>\n",
       "      <td>0</td>\n",
       "      <td>0</td>\n",
       "      <td>0</td>\n",
       "      <td>0</td>\n",
       "      <td>0</td>\n",
       "      <td>0</td>\n",
       "    </tr>\n",
       "    <tr>\n",
       "      <th>1</th>\n",
       "      <td>IRONCLAD</td>\n",
       "      <td>2</td>\n",
       "      <td>12</td>\n",
       "      <td>Ghostly Armor</td>\n",
       "      <td>Body Slam</td>\n",
       "      <td>Dual Wield</td>\n",
       "      <td>1</td>\n",
       "      <td>0</td>\n",
       "      <td>0</td>\n",
       "      <td>0</td>\n",
       "      <td>...</td>\n",
       "      <td>0</td>\n",
       "      <td>0</td>\n",
       "      <td>0</td>\n",
       "      <td>0</td>\n",
       "      <td>0</td>\n",
       "      <td>0</td>\n",
       "      <td>0</td>\n",
       "      <td>0</td>\n",
       "      <td>0</td>\n",
       "      <td>0</td>\n",
       "    </tr>\n",
       "    <tr>\n",
       "      <th>2</th>\n",
       "      <td>IRONCLAD</td>\n",
       "      <td>4</td>\n",
       "      <td>14</td>\n",
       "      <td>Pommel Strike</td>\n",
       "      <td>Perfected Strike</td>\n",
       "      <td>Burning Pact</td>\n",
       "      <td>2</td>\n",
       "      <td>0</td>\n",
       "      <td>0</td>\n",
       "      <td>0</td>\n",
       "      <td>...</td>\n",
       "      <td>0</td>\n",
       "      <td>0</td>\n",
       "      <td>0</td>\n",
       "      <td>0</td>\n",
       "      <td>0</td>\n",
       "      <td>0</td>\n",
       "      <td>0</td>\n",
       "      <td>0</td>\n",
       "      <td>0</td>\n",
       "      <td>0</td>\n",
       "    </tr>\n",
       "    <tr>\n",
       "      <th>3</th>\n",
       "      <td>IRONCLAD</td>\n",
       "      <td>5</td>\n",
       "      <td>15</td>\n",
       "      <td>Wild Strike</td>\n",
       "      <td>Second Wind</td>\n",
       "      <td>Fire Breathing</td>\n",
       "      <td>3</td>\n",
       "      <td>0</td>\n",
       "      <td>0</td>\n",
       "      <td>0</td>\n",
       "      <td>...</td>\n",
       "      <td>0</td>\n",
       "      <td>0</td>\n",
       "      <td>0</td>\n",
       "      <td>0</td>\n",
       "      <td>0</td>\n",
       "      <td>0</td>\n",
       "      <td>0</td>\n",
       "      <td>0</td>\n",
       "      <td>0</td>\n",
       "      <td>0</td>\n",
       "    </tr>\n",
       "    <tr>\n",
       "      <th>4</th>\n",
       "      <td>IRONCLAD</td>\n",
       "      <td>6</td>\n",
       "      <td>16</td>\n",
       "      <td>Warcry</td>\n",
       "      <td>Flex</td>\n",
       "      <td>Flame Barrier</td>\n",
       "      <td>3</td>\n",
       "      <td>0</td>\n",
       "      <td>0</td>\n",
       "      <td>0</td>\n",
       "      <td>...</td>\n",
       "      <td>0</td>\n",
       "      <td>0</td>\n",
       "      <td>0</td>\n",
       "      <td>0</td>\n",
       "      <td>0</td>\n",
       "      <td>0</td>\n",
       "      <td>1</td>\n",
       "      <td>0</td>\n",
       "      <td>0</td>\n",
       "      <td>0</td>\n",
       "    </tr>\n",
       "  </tbody>\n",
       "</table>\n",
       "<p>5 rows × 1022 columns</p>\n",
       "</div>"
      ],
      "text/plain": [
       "  Character  Floor  Deck Size        Choice1           Choice2  \\\n",
       "0  IRONCLAD      1         11       Headbutt         Iron Wave   \n",
       "1  IRONCLAD      2         12  Ghostly Armor         Body Slam   \n",
       "2  IRONCLAD      4         14  Pommel Strike  Perfected Strike   \n",
       "3  IRONCLAD      5         15    Wild Strike       Second Wind   \n",
       "4  IRONCLAD      6         16         Warcry              Flex   \n",
       "\n",
       "          Choice3 Picked  A Thousand Cuts  A Thousand Cuts+1  AbeCurse  ...  \\\n",
       "0        Entrench      1                0                  0         0  ...   \n",
       "1      Dual Wield      1                0                  0         0  ...   \n",
       "2    Burning Pact      2                0                  0         0  ...   \n",
       "3  Fire Breathing      3                0                  0         0  ...   \n",
       "4   Flame Barrier      3                0                  0         0  ...   \n",
       "\n",
       "   Vajra  Velvet Choker  VioletLotus  War Paint  WarpedTongs  Whetstone  \\\n",
       "0      0              0            0          0            0          0   \n",
       "1      0              0            0          0            0          0   \n",
       "2      0              0            0          0            0          0   \n",
       "3      0              0            0          0            0          0   \n",
       "4      0              0            0          0            0          0   \n",
       "\n",
       "   White Beast Statue  WingedGreaves  WristBlade  Yang  \n",
       "0                   0              0           0     0  \n",
       "1                   0              0           0     0  \n",
       "2                   0              0           0     0  \n",
       "3                   0              0           0     0  \n",
       "4                   1              0           0     0  \n",
       "\n",
       "[5 rows x 1022 columns]"
      ]
     },
     "execution_count": 5,
     "metadata": {},
     "output_type": "execute_result"
    }
   ],
   "source": [
    "fname = logs.character_filename(\"ironclad\")\n",
    "df = pd.read_csv(fname)\n",
    "df.head()"
   ]
  },
  {
   "cell_type": "code",
   "execution_count": 6,
   "metadata": {},
   "outputs": [],
   "source": [
    "size = len(df)\n",
    "procs = [Categorify, Normalize]\n",
    "dep_var = \"Picked\"\n",
    "cat_names = [\"Character\", \"Choice1\", \"Choice2\", \"Choice3\"]\n",
    "valid_idx = sorted(random.sample(list(range(size)), int(size / 5)))"
   ]
  },
  {
   "cell_type": "code",
   "execution_count": 7,
   "metadata": {},
   "outputs": [],
   "source": [
    "data = TabularDataBunch.from_df(fname, df, dep_var, valid_idx=valid_idx, procs=procs, cat_names=cat_names)"
   ]
  },
  {
   "cell_type": "code",
   "execution_count": 8,
   "metadata": {},
   "outputs": [],
   "source": [
    "learn = tabular_learner(data, layers=[200,100], metrics=accuracy)"
   ]
  },
  {
   "cell_type": "code",
   "execution_count": 9,
   "metadata": {},
   "outputs": [
    {
     "name": "stdout",
     "output_type": "stream",
     "text": [
      "epoch     train_loss  valid_loss  accuracy  time    \n",
      "0         0.998445    115610.2734380.576721  00:08     \n"
     ]
    }
   ],
   "source": [
    "learn.fit_one_cycle(1, 0.01)"
   ]
  },
  {
   "cell_type": "code",
   "execution_count": 12,
   "metadata": {},
   "outputs": [
    {
     "name": "stdout",
     "output_type": "stream",
     "text": [
      "epoch     train_loss  valid_loss  accuracy  time    \n",
      "0         0.943560    64.770348   0.585118  00:07     \n"
     ]
    }
   ],
   "source": [
    "learn.fit_one_cycle(1, 0.001)"
   ]
  },
  {
   "cell_type": "code",
   "execution_count": 13,
   "metadata": {},
   "outputs": [],
   "source": [
    "learn.export(logs.cachefile(\"ironclad.learn\"))"
   ]
  },
  {
   "cell_type": "markdown",
   "metadata": {},
   "source": [
    "This next section is testing out the model on sample data. The `load_learner` call is loading a cached learner instead of training a new one."
   ]
  },
  {
   "cell_type": "code",
   "execution_count": 4,
   "metadata": {},
   "outputs": [],
   "source": [
    "learn = load_learner(logs.CACHE, \"ironclad.learn\")"
   ]
  },
  {
   "cell_type": "code",
   "execution_count": 7,
   "metadata": {},
   "outputs": [
    {
     "data": {
      "text/plain": [
       "(Category tensor(1), tensor(1), tensor([0.0170, 0.6341, 0.0650, 0.2839]))"
      ]
     },
     "execution_count": 7,
     "metadata": {},
     "output_type": "execute_result"
    }
   ],
   "source": [
    "deck = [\"Strike_R\"] * 3 + [\"Defend_R\"] * 4 + [\n",
    "    \"Bash+1\", \"Anger\", \"AscendersBane\", \"Disarm+1\", \"Headbutt\", \"Evolve\", \"Impervious\", \"Whirlwind+1\", \"Shockwave\",\n",
    "    \"Demon Form+1\", \"Heavy Blade+1\", \"Dark Embrace+1\", \"Headbutt+1\", \"Sever Soul+1\", \"Clothesline+1\", \"Corruption\"]\n",
    "relics = [\"Burning Blood\", \"Cursed Key\"]\n",
    "floor = 36\n",
    "choices = [\"Perfected Strike+1\", \"Sword Boomerang+1\", \"Armaments\"]\n",
    "testcsv = logs.mini_csv(\"IRONCLAD\", floor, deck, relics, choices)\n",
    "testf = pd.read_csv(testcsv)\n",
    "p = learn.predict(testf.iloc[0])\n",
    "p"
   ]
  },
  {
   "cell_type": "code",
   "execution_count": 16,
   "metadata": {},
   "outputs": [
    {
     "data": {
      "text/plain": [
       "[0.0169597, 0.634105, 0.064994425, 0.28394082]"
      ]
     },
     "execution_count": 16,
     "metadata": {},
     "output_type": "execute_result"
    }
   ],
   "source": [
    "list(p[2].numpy())"
   ]
  },
  {
   "cell_type": "code",
   "execution_count": null,
   "metadata": {},
   "outputs": [],
   "source": []
  }
 ],
 "metadata": {
  "kernelspec": {
   "display_name": "Python 3",
   "language": "python",
   "name": "python3"
  },
  "language_info": {
   "codemirror_mode": {
    "name": "ipython",
    "version": 3
   },
   "file_extension": ".py",
   "mimetype": "text/x-python",
   "name": "python",
   "nbconvert_exporter": "python",
   "pygments_lexer": "ipython3",
   "version": "3.8.5"
  }
 },
 "nbformat": 4,
 "nbformat_minor": 4
}
