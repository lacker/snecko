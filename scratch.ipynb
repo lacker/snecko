{
 "cells": [
  {
   "cell_type": "code",
   "execution_count": 1,
   "metadata": {},
   "outputs": [],
   "source": [
    "import fastai\n",
    "import random\n",
    "import torch\n",
    "\n",
    "from fastai.tabular import *"
   ]
  },
  {
   "cell_type": "code",
   "execution_count": 2,
   "metadata": {},
   "outputs": [],
   "source": [
    "%load_ext autoreload\n",
    "%autoreload 1\n",
    "%aimport logs"
   ]
  },
  {
   "cell_type": "code",
   "execution_count": 3,
   "metadata": {},
   "outputs": [
    {
     "data": {
      "text/plain": [
       "'GeForce GTX 1080'"
      ]
     },
     "execution_count": 3,
     "metadata": {},
     "output_type": "execute_result"
    }
   ],
   "source": [
    "# Check if we're using the GPU.\n",
    "torch.cuda.get_device_name(0)"
   ]
  },
  {
   "cell_type": "markdown",
   "metadata": {},
   "source": [
    "This next section is training the model. You don't have to do this if the model is already trained."
   ]
  },
  {
   "cell_type": "code",
   "execution_count": 13,
   "metadata": {},
   "outputs": [
    {
     "data": {
      "text/html": [
       "<div>\n",
       "<style scoped>\n",
       "    .dataframe tbody tr th:only-of-type {\n",
       "        vertical-align: middle;\n",
       "    }\n",
       "\n",
       "    .dataframe tbody tr th {\n",
       "        vertical-align: top;\n",
       "    }\n",
       "\n",
       "    .dataframe thead th {\n",
       "        text-align: right;\n",
       "    }\n",
       "</style>\n",
       "<table border=\"1\" class=\"dataframe\">\n",
       "  <thead>\n",
       "    <tr style=\"text-align: right;\">\n",
       "      <th></th>\n",
       "      <th>Character</th>\n",
       "      <th>Floor</th>\n",
       "      <th>Deck Size</th>\n",
       "      <th>Choice1</th>\n",
       "      <th>Choice2</th>\n",
       "      <th>Choice3</th>\n",
       "      <th>Picked</th>\n",
       "      <th>A Thousand Cuts</th>\n",
       "      <th>A Thousand Cuts+1</th>\n",
       "      <th>AbeCurse</th>\n",
       "      <th>...</th>\n",
       "      <th>Wish+1</th>\n",
       "      <th>Worship</th>\n",
       "      <th>Worship+1</th>\n",
       "      <th>Wraith Form v2</th>\n",
       "      <th>Wraith Form v2+1</th>\n",
       "      <th>WreathOfFlame</th>\n",
       "      <th>WreathOfFlame+1</th>\n",
       "      <th>Writhe</th>\n",
       "      <th>Zap</th>\n",
       "      <th>Zap+1</th>\n",
       "    </tr>\n",
       "  </thead>\n",
       "  <tbody>\n",
       "    <tr>\n",
       "      <th>0</th>\n",
       "      <td>IRONCLAD</td>\n",
       "      <td>1</td>\n",
       "      <td>11</td>\n",
       "      <td>Whirlwind</td>\n",
       "      <td>Twin Strike</td>\n",
       "      <td>Clothesline</td>\n",
       "      <td>1</td>\n",
       "      <td>0</td>\n",
       "      <td>0</td>\n",
       "      <td>0</td>\n",
       "      <td>...</td>\n",
       "      <td>0</td>\n",
       "      <td>0</td>\n",
       "      <td>0</td>\n",
       "      <td>0</td>\n",
       "      <td>0</td>\n",
       "      <td>0</td>\n",
       "      <td>0</td>\n",
       "      <td>0</td>\n",
       "      <td>0</td>\n",
       "      <td>0</td>\n",
       "    </tr>\n",
       "    <tr>\n",
       "      <th>1</th>\n",
       "      <td>IRONCLAD</td>\n",
       "      <td>3</td>\n",
       "      <td>11</td>\n",
       "      <td>Seeing Red</td>\n",
       "      <td>Clothesline</td>\n",
       "      <td>Havoc</td>\n",
       "      <td>2</td>\n",
       "      <td>0</td>\n",
       "      <td>0</td>\n",
       "      <td>0</td>\n",
       "      <td>...</td>\n",
       "      <td>0</td>\n",
       "      <td>0</td>\n",
       "      <td>0</td>\n",
       "      <td>0</td>\n",
       "      <td>0</td>\n",
       "      <td>0</td>\n",
       "      <td>0</td>\n",
       "      <td>0</td>\n",
       "      <td>0</td>\n",
       "      <td>0</td>\n",
       "    </tr>\n",
       "    <tr>\n",
       "      <th>2</th>\n",
       "      <td>IRONCLAD</td>\n",
       "      <td>4</td>\n",
       "      <td>12</td>\n",
       "      <td>Pummel</td>\n",
       "      <td>Second Wind</td>\n",
       "      <td>Warcry</td>\n",
       "      <td>1</td>\n",
       "      <td>0</td>\n",
       "      <td>0</td>\n",
       "      <td>0</td>\n",
       "      <td>...</td>\n",
       "      <td>0</td>\n",
       "      <td>0</td>\n",
       "      <td>0</td>\n",
       "      <td>0</td>\n",
       "      <td>0</td>\n",
       "      <td>0</td>\n",
       "      <td>0</td>\n",
       "      <td>0</td>\n",
       "      <td>0</td>\n",
       "      <td>0</td>\n",
       "    </tr>\n",
       "    <tr>\n",
       "      <th>3</th>\n",
       "      <td>IRONCLAD</td>\n",
       "      <td>5</td>\n",
       "      <td>13</td>\n",
       "      <td>Iron Wave</td>\n",
       "      <td>Blood for Blood</td>\n",
       "      <td>Limit Break</td>\n",
       "      <td>1</td>\n",
       "      <td>0</td>\n",
       "      <td>0</td>\n",
       "      <td>0</td>\n",
       "      <td>...</td>\n",
       "      <td>0</td>\n",
       "      <td>0</td>\n",
       "      <td>0</td>\n",
       "      <td>0</td>\n",
       "      <td>0</td>\n",
       "      <td>0</td>\n",
       "      <td>0</td>\n",
       "      <td>0</td>\n",
       "      <td>0</td>\n",
       "      <td>0</td>\n",
       "    </tr>\n",
       "    <tr>\n",
       "      <th>4</th>\n",
       "      <td>IRONCLAD</td>\n",
       "      <td>7</td>\n",
       "      <td>14</td>\n",
       "      <td>Armaments</td>\n",
       "      <td>Anger</td>\n",
       "      <td>Headbutt</td>\n",
       "      <td>3</td>\n",
       "      <td>0</td>\n",
       "      <td>0</td>\n",
       "      <td>0</td>\n",
       "      <td>...</td>\n",
       "      <td>0</td>\n",
       "      <td>0</td>\n",
       "      <td>0</td>\n",
       "      <td>0</td>\n",
       "      <td>0</td>\n",
       "      <td>0</td>\n",
       "      <td>0</td>\n",
       "      <td>0</td>\n",
       "      <td>0</td>\n",
       "      <td>0</td>\n",
       "    </tr>\n",
       "  </tbody>\n",
       "</table>\n",
       "<p>5 rows × 846 columns</p>\n",
       "</div>"
      ],
      "text/plain": [
       "  Character  Floor  Deck Size     Choice1          Choice2      Choice3  \\\n",
       "0  IRONCLAD      1         11   Whirlwind      Twin Strike  Clothesline   \n",
       "1  IRONCLAD      3         11  Seeing Red      Clothesline        Havoc   \n",
       "2  IRONCLAD      4         12      Pummel      Second Wind       Warcry   \n",
       "3  IRONCLAD      5         13   Iron Wave  Blood for Blood  Limit Break   \n",
       "4  IRONCLAD      7         14   Armaments            Anger     Headbutt   \n",
       "\n",
       "  Picked  A Thousand Cuts  A Thousand Cuts+1  AbeCurse  ...  Wish+1  Worship  \\\n",
       "0      1                0                  0         0  ...       0        0   \n",
       "1      2                0                  0         0  ...       0        0   \n",
       "2      1                0                  0         0  ...       0        0   \n",
       "3      1                0                  0         0  ...       0        0   \n",
       "4      3                0                  0         0  ...       0        0   \n",
       "\n",
       "   Worship+1  Wraith Form v2  Wraith Form v2+1  WreathOfFlame  \\\n",
       "0          0               0                 0              0   \n",
       "1          0               0                 0              0   \n",
       "2          0               0                 0              0   \n",
       "3          0               0                 0              0   \n",
       "4          0               0                 0              0   \n",
       "\n",
       "   WreathOfFlame+1  Writhe  Zap  Zap+1  \n",
       "0                0       0    0      0  \n",
       "1                0       0    0      0  \n",
       "2                0       0    0      0  \n",
       "3                0       0    0      0  \n",
       "4                0       0    0      0  \n",
       "\n",
       "[5 rows x 846 columns]"
      ]
     },
     "execution_count": 13,
     "metadata": {},
     "output_type": "execute_result"
    }
   ],
   "source": [
    "fname = logs.character_filename(\"IRONCLAD\")\n",
    "df = pd.read_csv(fname)\n",
    "df.head()"
   ]
  },
  {
   "cell_type": "code",
   "execution_count": 21,
   "metadata": {},
   "outputs": [],
   "source": [
    "size = len(df)\n",
    "procs = [Categorify, Normalize]\n",
    "dep_var = \"Picked\"\n",
    "cat_names = [\"Character\", \"Choice1\", \"Choice2\", \"Choice3\"]\n",
    "valid_idx = sorted(random.sample(list(range(size)), int(size / 5)))"
   ]
  },
  {
   "cell_type": "code",
   "execution_count": 22,
   "metadata": {},
   "outputs": [],
   "source": [
    "data = TabularDataBunch.from_df(fname, df, dep_var, valid_idx=valid_idx, procs=procs, cat_names=cat_names)"
   ]
  },
  {
   "cell_type": "code",
   "execution_count": 23,
   "metadata": {},
   "outputs": [],
   "source": [
    "learn = tabular_learner(data, layers=[200,100], metrics=accuracy)"
   ]
  },
  {
   "cell_type": "code",
   "execution_count": 24,
   "metadata": {},
   "outputs": [
    {
     "name": "stdout",
     "output_type": "stream",
     "text": [
      "epoch     train_loss  valid_loss  accuracy  time    \n",
      "0         1.055047    743018.2500000.555319  00:24     \n"
     ]
    }
   ],
   "source": [
    "learn.fit_one_cycle(1, 0.01)"
   ]
  },
  {
   "cell_type": "code",
   "execution_count": 26,
   "metadata": {},
   "outputs": [
    {
     "name": "stdout",
     "output_type": "stream",
     "text": [
      "epoch     train_loss  valid_loss  accuracy  time    \n",
      "0         1.014597    190482.8750000.559508  00:23     \n"
     ]
    }
   ],
   "source": [
    "learn.fit_one_cycle(1, 0.001)"
   ]
  },
  {
   "cell_type": "code",
   "execution_count": 49,
   "metadata": {},
   "outputs": [],
   "source": [
    "learn.export(logs.cachefile(\"ironclad.learn\"))"
   ]
  },
  {
   "cell_type": "markdown",
   "metadata": {},
   "source": [
    "This next section is testing out the model on sample data. The `load_learner` call is loading a cached learner instead of training a new one."
   ]
  },
  {
   "cell_type": "code",
   "execution_count": 4,
   "metadata": {},
   "outputs": [],
   "source": [
    "learn = load_learner(logs.CACHE, \"ironclad.learn\")"
   ]
  },
  {
   "cell_type": "code",
   "execution_count": 30,
   "metadata": {},
   "outputs": [
    {
     "data": {
      "text/plain": [
       "(Category tensor(3), tensor(3), tensor([0.0303, 0.4401, 0.0366, 0.4930]))"
      ]
     },
     "execution_count": 30,
     "metadata": {},
     "output_type": "execute_result"
    }
   ],
   "source": [
    "deck = [\"Strike_R\"] * 3 + [\"Defend_R\"] * 4 + [\n",
    "    \"Bash+1\", \"Anger\", \"AscendersBane\", \"Disarm+1\", \"Headbutt\", \"Evolve\", \"Impervious\", \"Whirlwind+1\", \"Shockwave\",\n",
    "    \"Demon Form+1\", \"Heavy Blade+1\", \"Dark Embrace+1\", \"Headbutt+1\", \"Sever Soul+1\", \"Clothesline+1\", \"Corruption\"]\n",
    "floor = 36\n",
    "choices = [\"Perfected Strike+1\", \"Sword Boomerang+1\", \"Armaments\"]\n",
    "testcsv = logs.mini_csv(\"IRONCLAD\", floor, deck, choices)\n",
    "testf = pd.read_csv(testcsv)\n",
    "learn.predict(testf.iloc[0])"
   ]
  },
  {
   "cell_type": "code",
   "execution_count": null,
   "metadata": {},
   "outputs": [],
   "source": []
  }
 ],
 "metadata": {
  "kernelspec": {
   "display_name": "Python 3",
   "language": "python",
   "name": "python3"
  },
  "language_info": {
   "codemirror_mode": {
    "name": "ipython",
    "version": 3
   },
   "file_extension": ".py",
   "mimetype": "text/x-python",
   "name": "python",
   "nbconvert_exporter": "python",
   "pygments_lexer": "ipython3",
   "version": "3.8.5"
  }
 },
 "nbformat": 4,
 "nbformat_minor": 4
}
